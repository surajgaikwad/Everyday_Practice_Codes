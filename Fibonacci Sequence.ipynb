{
 "cells": [
  {
   "cell_type": "code",
   "execution_count": 17,
   "id": "029799dd",
   "metadata": {},
   "outputs": [
    {
     "name": "stdout",
     "output_type": "stream",
     "text": [
      "enter n:6\n",
      "[0, 1, 1, 2, 3, 5]\n"
     ]
    }
   ],
   "source": [
    "# firstt n terms in Fibonacci sqeries starting from 0\n",
    "def fibonacci(n):\n",
    "    if n<=0:\n",
    "        print(\"please enter a positive number\")\n",
    "    elif n==1:\n",
    "        return 0\n",
    "    elif n==2:\n",
    "        return 1\n",
    "    else:\n",
    "        return fibonacci(n-1)+fibonacci(n-2)\n",
    "n=int(input(\"enter n:\"))\n",
    "lst=[]\n",
    "for i in range(1,n+1):\n",
    "    lst.append(fibonacci(i))\n",
    "print(lst)"
   ]
  },
  {
   "cell_type": "code",
   "execution_count": 18,
   "id": "cf18f086",
   "metadata": {},
   "outputs": [
    {
     "name": "stdout",
     "output_type": "stream",
     "text": [
      "enter n:6\n",
      "[1, 1, 2, 3, 5, 8]\n"
     ]
    }
   ],
   "source": [
    "# firstt n terms in Fibonacci sqeries starting from 1\n",
    "def fibonacci(n):\n",
    "    if n<=0:\n",
    "        print(\"please enter a positive number\")\n",
    "    elif n==1:\n",
    "        return 1\n",
    "    elif n==2:\n",
    "        return 1\n",
    "    else:\n",
    "        return fibonacci(n-1)+fibonacci(n-2)\n",
    "n=int(input(\"enter n:\"))\n",
    "lst=[]\n",
    "for i in range(1,n+1):\n",
    "    lst.append(fibonacci(i))\n",
    "print(lst)"
   ]
  },
  {
   "cell_type": "code",
   "execution_count": 20,
   "id": "3ed9fed4",
   "metadata": {},
   "outputs": [
    {
     "name": "stdout",
     "output_type": "stream",
     "text": [
      "enter n:6\n",
      "5\n"
     ]
    }
   ],
   "source": [
    "# nth term in fibonacci sequence starting from 0\n",
    "def fibonacci(n):\n",
    "    if n<=0:\n",
    "        print(\"please enter a positive number\")\n",
    "    elif n==1:\n",
    "        return 0\n",
    "    elif n==2:\n",
    "        return 1\n",
    "    else:\n",
    "        return fibonacci(n-1)+fibonacci(n-2)\n",
    "n=int(input(\"enter n:\"))\n",
    "print(fibonacci(n))\n",
    "#lst=[]\n",
    "#for i in range(1,n+1):\n",
    "#    lst.append(fibonacci(i))\n",
    "#print(lst)"
   ]
  },
  {
   "cell_type": "code",
   "execution_count": 21,
   "id": "f9205bfe",
   "metadata": {},
   "outputs": [
    {
     "name": "stdout",
     "output_type": "stream",
     "text": [
      "enter n:6\n",
      "8\n"
     ]
    }
   ],
   "source": [
    "# nth term in fibonacci sequence starting from 1\n",
    "def fibonacci(n):\n",
    "    if n<=0:\n",
    "        print(\"please enter a positive number\")\n",
    "    elif n==1:\n",
    "        return 1\n",
    "    elif n==2:\n",
    "        return 1\n",
    "    else:\n",
    "        return fibonacci(n-1)+fibonacci(n-2)\n",
    "n=int(input(\"enter n:\"))\n",
    "print(fibonacci(n))\n",
    "#lst=[]\n",
    "#for i in range(1,n+1):\n",
    "#    lst.append(fibonacci(i))\n",
    "#print(lst)"
   ]
  },
  {
   "cell_type": "code",
   "execution_count": null,
   "id": "d3e8645b",
   "metadata": {},
   "outputs": [],
   "source": []
  }
 ],
 "metadata": {
  "kernelspec": {
   "display_name": "Python 3 (ipykernel)",
   "language": "python",
   "name": "python3"
  },
  "language_info": {
   "codemirror_mode": {
    "name": "ipython",
    "version": 3
   },
   "file_extension": ".py",
   "mimetype": "text/x-python",
   "name": "python",
   "nbconvert_exporter": "python",
   "pygments_lexer": "ipython3",
   "version": "3.10.0"
  }
 },
 "nbformat": 4,
 "nbformat_minor": 5
}
