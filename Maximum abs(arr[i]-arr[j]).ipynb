{
 "cells": [
  {
   "cell_type": "code",
   "execution_count": 1,
   "id": "04b3c1b8",
   "metadata": {},
   "outputs": [],
   "source": [
    "# Given an array of size N \n",
    "# output maximum value of abs(arr[i]-arr[j])\n",
    "\n",
    "# arr = [0, -1, 5, 7, 10]\n",
    "# output = 11"
   ]
  },
  {
   "cell_type": "code",
   "execution_count": 5,
   "id": "decff735",
   "metadata": {},
   "outputs": [
    {
     "name": "stdout",
     "output_type": "stream",
     "text": [
      "11\n"
     ]
    }
   ],
   "source": [
    "arr = [0, -1, 5, 7, 10]\n",
    "outp = 0\n",
    "for i in range(len(arr)):\n",
    "    for j in range(len(arr)):\n",
    "        if i!=j:\n",
    "            x=abs(arr[i]-arr[j])\n",
    "            if x>outp:\n",
    "                outp=x\n",
    "print(outp)                \n",
    "            \n",
    "# time complexity O(n^2)"
   ]
  },
  {
   "cell_type": "code",
   "execution_count": 6,
   "id": "1522282c",
   "metadata": {},
   "outputs": [
    {
     "name": "stdout",
     "output_type": "stream",
     "text": [
      "11\n"
     ]
    }
   ],
   "source": [
    "# with less time complexity O(n) # most optimal answer\n",
    "arr = [0, -1, 5, 7, 10]\n",
    "small = 0\n",
    "large = 0\n",
    "for i in arr:\n",
    "    if i<small:\n",
    "        small=i\n",
    "    if i>large:\n",
    "        large=i\n",
    "print(abs(large-small))     # abs(10-(-1))=11   \n",
    "        "
   ]
  },
  {
   "cell_type": "code",
   "execution_count": 7,
   "id": "f6a7823b",
   "metadata": {},
   "outputs": [
    {
     "name": "stdout",
     "output_type": "stream",
     "text": [
      "11\n"
     ]
    }
   ],
   "source": [
    "# using inbuilt functions ## time complexity is high O(nlog(n))\n",
    "arr.sort()\n",
    "print(abs(arr[-1])-arr[0])"
   ]
  },
  {
   "cell_type": "code",
   "execution_count": null,
   "id": "dc35594f",
   "metadata": {},
   "outputs": [],
   "source": [
    "## difference between sort() and sorted()\n",
    "## sort makes changes to original array and sorted creates new array which we need to save in a variable and use "
   ]
  },
  {
   "cell_type": "code",
   "execution_count": 10,
   "id": "fb3082f7",
   "metadata": {},
   "outputs": [
    {
     "name": "stdout",
     "output_type": "stream",
     "text": [
      "10\n"
     ]
    }
   ],
   "source": [
    "lst = [0, -1, 5, 7, 10]\n",
    "sorted(lst)\n",
    "print(abs(lst[-1]-lst[0])) # using original "
   ]
  },
  {
   "cell_type": "code",
   "execution_count": null,
   "id": "7f0a3f03",
   "metadata": {},
   "outputs": [],
   "source": []
  }
 ],
 "metadata": {
  "kernelspec": {
   "display_name": "Python 3 (ipykernel)",
   "language": "python",
   "name": "python3"
  },
  "language_info": {
   "codemirror_mode": {
    "name": "ipython",
    "version": 3
   },
   "file_extension": ".py",
   "mimetype": "text/x-python",
   "name": "python",
   "nbconvert_exporter": "python",
   "pygments_lexer": "ipython3",
   "version": "3.10.0"
  }
 },
 "nbformat": 4,
 "nbformat_minor": 5
}
