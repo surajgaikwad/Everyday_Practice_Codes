{
 "cells": [
  {
   "cell_type": "code",
   "execution_count": 1,
   "id": "04b3c1b8",
   "metadata": {},
   "outputs": [],
   "source": [
    "# Given an array of size N \n",
    "# output maximum value of abs(arr[i]-arr[j])\n",
    "\n",
    "# arr = [0, -1, 5, 7, 10]\n",
    "# output = 11"
   ]
  },
  {
   "cell_type": "code",
   "execution_count": 5,
   "id": "decff735",
   "metadata": {},
   "outputs": [
    {
     "name": "stdout",
     "output_type": "stream",
     "text": [
      "11\n"
     ]
    }
   ],
   "source": [
    "arr = [0, -1, 5, 7, 10]\n",
    "outp = 0\n",
    "for i in range(len(arr)):\n",
    "    for j in range(len(arr)):\n",
    "        if i!=j:\n",
    "            x=abs(arr[i]-arr[j])\n",
    "            if x>outp:\n",
    "                outp=x\n",
    "print(outp)                \n",
    "            \n",
    "# time complexity O(n^2)"
   ]
  },
  {
   "cell_type": "code",
   "execution_count": null,
   "id": "1522282c",
   "metadata": {},
   "outputs": [],
   "source": [
    "# with less time complexity O(n)\n",
    "arr = [0, -1, 5, 7, 10]\n",
    "small = 0\n",
    "large = 0\n",
    "for i in arr:\n",
    "    if i<small:\n",
    "        small=i\n",
    "    if i>large:\n",
    "        large=i\n",
    "print(abs(large-))        \n",
    "        "
   ]
  }
 ],
 "metadata": {
  "kernelspec": {
   "display_name": "Python 3 (ipykernel)",
   "language": "python",
   "name": "python3"
  },
  "language_info": {
   "codemirror_mode": {
    "name": "ipython",
    "version": 3
   },
   "file_extension": ".py",
   "mimetype": "text/x-python",
   "name": "python",
   "nbconvert_exporter": "python",
   "pygments_lexer": "ipython3",
   "version": "3.10.0"
  }
 },
 "nbformat": 4,
 "nbformat_minor": 5
}
