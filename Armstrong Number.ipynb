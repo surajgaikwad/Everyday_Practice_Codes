{
 "cells": [
  {
   "cell_type": "markdown",
   "id": "e479ca03",
   "metadata": {},
   "source": [
    "### An Armstrong number of three digits is an integer such that the sum of the cubes of its digits is equal to the number itself.\n",
    "### n == 370 , armotrong number of 370 == 3^3 + 7^3 + 3^0 =370"
   ]
  },
  {
   "cell_type": "code",
   "execution_count": 2,
   "id": "3694a0f3",
   "metadata": {},
   "outputs": [
    {
     "name": "stdout",
     "output_type": "stream",
     "text": [
      "370\n"
     ]
    }
   ],
   "source": [
    "print(3**3+7**3+0)"
   ]
  },
  {
   "cell_type": "markdown",
   "id": "c8befb1c",
   "metadata": {},
   "source": [
    "### Check if the number is Armstrong Number or NOT , IF yes print yes if no print No "
   ]
  },
  {
   "cell_type": "code",
   "execution_count": 9,
   "id": "49d5dd80",
   "metadata": {},
   "outputs": [
    {
     "name": "stdout",
     "output_type": "stream",
     "text": [
      "372\n",
      "No\n"
     ]
    }
   ],
   "source": [
    "def armstrong(n):\n",
    "    num=[]\n",
    "    for i in n:\n",
    "        if i==\" \":\n",
    "            continue\n",
    "        else:\n",
    "            num.append(int(i))\n",
    "    \n",
    "    sum=0\n",
    "    for x in num:\n",
    "        sum=sum+x**3\n",
    "    if int(n)==sum:\n",
    "        print(\"yes\")\n",
    "    else:\n",
    "        print(\"No\")\n",
    "        \n",
    "num=int(input())\n",
    "n=str(num)\n",
    "armstrong(n)"
   ]
  },
  {
   "cell_type": "code",
   "execution_count": 18,
   "id": "b5f4dfdb",
   "metadata": {},
   "outputs": [
    {
     "name": "stdout",
     "output_type": "stream",
     "text": [
      "370\n",
      "Yes the number is an armstrong number\n"
     ]
    }
   ],
   "source": [
    "def armstrong(n):\n",
    "    sum=0\n",
    "    for i in n:\n",
    "        x=int(i)\n",
    "        if x>0:\n",
    "            sum=sum+x**3\n",
    "    if int(n)==sum:\n",
    "        print(\"Yes the number is an armstrong number\")\n",
    "    else:\n",
    "        print(\"the number is NOT an armstrong number\")\n",
    "        \n",
    "num=int(input())\n",
    "if num<=0:\n",
    "    print(\"please enter a positive integer\")\n",
    "else:    \n",
    "    n=str(num)\n",
    "    armstrong(n)"
   ]
  },
  {
   "cell_type": "code",
   "execution_count": null,
   "id": "3ef2f7e6",
   "metadata": {},
   "outputs": [],
   "source": []
  },
  {
   "cell_type": "code",
   "execution_count": null,
   "id": "1a98bd22",
   "metadata": {},
   "outputs": [],
   "source": []
  }
 ],
 "metadata": {
  "kernelspec": {
   "display_name": "Python 3 (ipykernel)",
   "language": "python",
   "name": "python3"
  },
  "language_info": {
   "codemirror_mode": {
    "name": "ipython",
    "version": 3
   },
   "file_extension": ".py",
   "mimetype": "text/x-python",
   "name": "python",
   "nbconvert_exporter": "python",
   "pygments_lexer": "ipython3",
   "version": "3.10.0"
  }
 },
 "nbformat": 4,
 "nbformat_minor": 5
}
